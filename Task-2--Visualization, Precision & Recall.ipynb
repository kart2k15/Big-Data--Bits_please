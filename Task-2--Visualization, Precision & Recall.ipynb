{
 "cells": [
  {
   "cell_type": "code",
   "execution_count": 108,
   "metadata": {},
   "outputs": [],
   "source": [
    "import os\n",
    "import string\n",
    "import json"
   ]
  },
  {
   "cell_type": "code",
   "execution_count": 109,
   "metadata": {},
   "outputs": [
    {
     "name": "stdout",
     "output_type": "stream",
     "text": [
      "col name =  kevu-8hby.STR_NAME | true labels =  ['street_name', 'other']\n",
      "col name =  hy4q-igkk.Cross_Street_2 | true labels =  ['street_name']\n",
      "col name =  735p-zed8.EMPCITY | true labels =  ['city', 'borough']\n",
      "col name =  6kcb-9g8d.independentwebsite | true labels =  ['website']\n",
      "col name =  4qii-5cz9.BOROUGH | true labels =  ['other']\n",
      "col name =  en2c-j6tw.BRONX_CONDOMINIUM_PROPERTY_Building_Classification | true labels =  ['building_classification']\n",
      "col name =  cyfw-hfqk.STATEN_ISLAND_CONDOMINIUM_PROPERTY_Neighborhood | true labels =  ['neighborhood']\n",
      "col name =  gpwd-npar.INCIDENT_ADDRESS | true labels =  ['address']\n",
      "col name =  pvqr-7yc4.Vehicle_Color | true labels =  ['color', 'other']\n",
      "col name =  tg3t-nh4h.BusinessName | true labels =  ['business_name', 'address', 'street_name']\n",
      "col name =  2bmr-jdsv.DBA | true labels =  ['business_name']\n",
      "col name =  ajgi-hpq9.BORO | true labels =  ['other']\n",
      "col name =  dm9a-ab7w.AUTH_REP_LAST_NAME | true labels =  ['person_name']\n",
      "col name =  pf3n-zn2m.StreetAddress | true labels =  ['street_name', 'address']\n",
      "col name =  jz4z-kudi.Violation_Location__City_ | true labels =  ['zip_code', 'other', 'city']\n",
      "col name =  eamj-ryxu.Agency | true labels =  ['city_agency']\n",
      "col name =  2sps-j9st.PERSON_FIRST_NAME | true labels =  ['person_name']\n",
      "col name =  faiq-9dfq.Vehicle_Color | true labels =  ['color', 'other']\n",
      "col name =  c284-tqph.Vehicle_Make | true labels =  ['car_make']\n",
      "col name =  2bnn-yakx.Vehicle_Body_Type | true labels =  ['vehicle_type', 'other']\n",
      "col name =  dj4e-3xrn.SCHOOL_LEVEL_ | true labels =  ['school_level']\n",
      "col name =  ac4n-c5re.PRINCIPAL_PHONE_NUMBER | true labels =  ['phone_number']\n",
      "col name =  i8ys-e4pm.CORE_COURSE_9_12_ONLY_ | true labels =  ['subject_in_school']\n",
      "col name =  qgea-i56i.PREM_TYP_DESC | true labels =  ['location_type']\n",
      "col name =  vrn4-2abs.SCHOOL_LEVEL_ | true labels =  ['school_level']\n",
      "col name =  n8p9-7jxp.EMPCITY | true labels =  ['city', 'borough']\n",
      "col name =  7btz-mnc8.Provider_Last_Name | true labels =  ['person_name']\n",
      "col name =  fbaw-uq4e.Location_1 | true labels =  ['lat_lon_cord']\n",
      "col name =  kiv2-tbus.Vehicle_Color | true labels =  ['color', 'other']\n",
      "col name =  bty7-2jhb.Site_Safety_Mgr_s_Last_Name | true labels =  ['person_name']\n",
      "col name =  pvqr-7yc4.Vehicle_Body_Type | true labels =  ['vehicle_type', 'car_make', 'other']\n",
      "col name =  72ss-25qh.Agency_ID | true labels =  ['city_agency']\n",
      "col name =  dm9a-ab7w.STREET_NAME | true labels =  ['street_name', 'address']\n",
      "col name =  ub9e-s7ai.CORE_SUBJECT___MS_CORE_and__09_12_ONLY_ | true labels =  ['subject_in_school', 'other']\n",
      "col name =  uq7m-95z8.interest3 | true labels =  ['subject_in_school']\n",
      "col name =  erm2-nwe9.Landmark | true labels =  ['street_name', 'park_playground']\n",
      "col name =  feu5-w2e2.BusinessZip | true labels =  ['zip_code']\n",
      "col name =  mdcw-n682.Agency_Acronym | true labels =  ['city_agency']\n",
      "col name =  cznr-hmrv.School_Name | true labels =  ['school_name']\n",
      "col name =  pdpg-nn8i.SCHOOL_NAME | true labels =  ['school_name']\n",
      "col name =  u35m-9t32.Address | true labels =  ['address', 'street_name']\n",
      "col name =  ji82-xba5.address | true labels =  ['address', 'street_name']\n",
      "col name =  kiv2-tbus.Vehicle_Body_Type | true labels =  ['vehicle_type', 'car_make', 'other']\n",
      "col name =  nre2-6m2s.Business_City | true labels =  ['city', 'borough']\n",
      "col name =  2bnn-yakx.Vehicle_Make | true labels =  ['car_make', 'other']\n",
      "col name =  pchn-eaxn.School_Name | true labels =  ['school_name']\n",
      "col name =  pq5i-thsu.DVC_MAKE | true labels =  ['car_make', 'other']\n",
      "col name =  a6zp-tcs3.Agency | true labels =  ['city_agency']\n",
      "col name =  3rfa-3xsf.Cross_Street_2 | true labels =  ['street_name']\n",
      "col name =  5nz7-hh6t.CORE_SUBJECT___MS_CORE_and__09_12_ONLY_ | true labels =  ['subject_in_school', 'other']\n",
      "col name =  3rfa-3xsf.Street_Name | true labels =  ['street_name']\n",
      "col name =  p2d7-vcsb.COMPLAINT_INQUIRY_STREET_ADDRESS | true labels =  ['street_name', 'address']\n",
      "col name =  qu8g-sxqf.First_Name | true labels =  ['person_name']\n",
      "col name =  956m-xy24.COMPARABLE_RENTAL_1__Building_Classification | true labels =  ['building_classification']\n",
      "col name =  jhjm-vsp8.Agency | true labels =  ['city_agency']\n",
      "col name =  k3cd-yu9d.CANDMI | true labels =  ['other']\n",
      "col name =  956m-xy24.MANHATTAN_CONDOMINIUM_PROPERTY_Building_Classification | true labels =  ['building_classification']\n",
      "col name =  diks-hcwd.School_Name | true labels =  ['school_name']\n",
      "col name =  pvqr-7yc4.Vehicle_Make | true labels =  ['car_make', 'vehicle_type', 'other']\n",
      "col name =  p2d7-vcsb.ACCOUNT_PHONE | true labels =  ['phone_number']\n",
      "col name =  6ypq-ih9a.CORE_SUBJECT___MS_CORE_and__09_12_ONLY_ | true labels =  ['subject_in_school', 'other']\n",
      "col name =  kz72-dump.CORE_SUBJECT___MS_CORE_and__09_12_ONLY_ | true labels =  ['subject_in_school', 'other']\n",
      "col name =  4n2j-ut8i.SCHOOL_LEVEL_ | true labels =  ['school_level']\n",
      "col name =  ytjm-yias.CORE_SUBJECT___MS_CORE_and__09_12_ONLY_ | true labels =  ['subject_in_school', 'other']\n",
      "col name =  xck4-5xd5.phone | true labels =  ['phone_number']\n",
      "col name =  upwt-zvh3.SCHOOL_LEVEL_ | true labels =  ['school_level']\n",
      "col name =  43nn-pn8j.DBA | true labels =  ['business_name', 'address']\n",
      "col name =  5uac-w243.Lat_Lon | true labels =  ['lat_lon_cord']\n",
      "col name =  xx4a-msrm.Address_1 | true labels =  ['street_name', 'address']\n",
      "col name =  3btx-p4av.COMPARABLE_RENTAL___2__Building_Classification | true labels =  ['building_classification']\n",
      "col name =  6je4-4x7e.SCHOOL_LEVEL_ | true labels =  ['school_level']\n",
      "col name =  uq7m-95z8.website | true labels =  ['website']\n",
      "col name =  wvts-6tdf.Address | true labels =  ['address', 'other']\n",
      "col name =  6wcu-cfa3.CORE_COURSE__MS_CORE_and_9_12_ONLY_ | true labels =  ['subject_in_school']\n",
      "col name =  uq7m-95z8.interest4 | true labels =  ['subject_in_school']\n",
      "col name =  faiq-9dfq.Vehicle_Body_Type | true labels =  ['vehicle_type', 'car_make']\n",
      "col name =  8jfz-tjny.Agency | true labels =  ['city_agency']\n",
      "col name =  72ss-25qh.Borough | true labels =  ['other']\n",
      "col name =  h9gi-nx95.VEHICLE_TYPE_CODE_2 | true labels =  ['vehicle_type', 'car_make']\n",
      "col name =  h9gi-nx95.VEHICLE_TYPE_CODE_3 | true labels =  ['vehicle_type']\n",
      "col name =  ic3t-wcy2.Applicant_s_First_Name | true labels =  ['person_name']\n",
      "col name =  aiww-p3af.Incident_Zip | true labels =  ['zip_code']\n",
      "col name =  jxyc-rxiv.MANHATTAN___COOPERATIVES_COMPARABLE_PROPERTIES___Neighborhood | true labels =  ['neighborhood']\n",
      "col name =  tvhc-4n5n.REGISTRY_ADDRESS | true labels =  ['address', 'street_name']\n",
      "col name =  cvh6-nmyi.SCHOOL_LEVEL_ | true labels =  ['school_level']\n",
      "col name =  kwmq-dbub.CANDMI | true labels =  ['other']\n",
      "col name =  yahh-6yjc.School_Type | true labels =  ['school_level']\n",
      "col name =  99br-frp6.BOROUGH___COMMUNITY | true labels =  ['borough']\n",
      "col name =  s3k6-pzi2.interest2 | true labels =  ['subject_in_school']\n",
      "col name =  ad4c-mphb.MANHATTAN_CONDOMINIUM_PROPERTY_Building_Classification | true labels =  ['building_classification']\n",
      "col name =  ajxm-kzmj.NeighborhoodName | true labels =  ['neighborhood']\n",
      "col name =  gez6-674h.CORE_SUBJECT___MS_CORE_and__9_12_ONLY_ | true labels =  ['subject_in_school', 'other']\n",
      "col name =  2bnn-yakx.Vehicle_Color | true labels =  ['color', 'other']\n",
      "col name =  4twk-9yq2.CrossStreet2 | true labels =  ['street_name']\n",
      "col name =  mjux-q9d4.SCHOOL_LEVEL_ | true labels =  ['school_level']\n",
      "col name =  ptev-4hud.Zip | true labels =  ['zip_code']\n",
      "col name =  mqdy-gu73.Color | true labels =  ['color', 'other']\n",
      "col name =  uq7m-95z8.interest2 | true labels =  ['subject_in_school']\n",
      "col name =  qcdj-rwhu.BUSINESS_NAME2 | true labels =  ['business_name', 'other']\n",
      "col name =  feu5-w2e2.BusinessCity | true labels =  ['other', 'city', 'borough', 'phone_number']\n",
      "col name =  by6m-6zpb.interest | true labels =  ['subject_in_school']\n",
      "col name =  vw9i-7mzq.website | true labels =  ['website']\n",
      "col name =  upwt-zvh3.SCHOOL | true labels =  ['school_name']\n",
      "col name =  c284-tqph.Vehicle_Color | true labels =  ['other', 'color']\n",
      "col name =  gpwd-npar.LOCATION | true labels =  ['lat_lon_cord']\n",
      "col name =  ipu4-2q9a.Site_Safety_Mgr_s_First_Name | true labels =  ['person_name']\n",
      "col name =  bty7-2jhb.Owner_s_House_City | true labels =  ['phone_number', 'zip_code', 'address', 'city', 'other']\n",
      "col name =  sqcr-6mww.School_Name | true labels =  ['other', 'school_name']\n",
      "col name =  vw9i-7mzq.interest6 | true labels =  ['subject_in_school']\n",
      "col name =  qbjq-atxv.Agency | true labels =  ['city_agency']\n",
      "col name =  as69-ew8f.StartCity | true labels =  ['borough', 'city', 'address']\n",
      "col name =  f7qh-bcr5.CORE_SUBJECT___MS_CORE_and__9_12_ONLY_ | true labels =  ['subject_in_school', 'other']\n",
      "col name =  vw9i-7mzq.interest2 | true labels =  ['subject_in_school']\n",
      "col name =  6anw-twe4.FirstName | true labels =  ['person_name']\n",
      "col name =  ph7v-u5f3.TOP_VEHICLE_MODELS___5 | true labels =  ['car_make', 'other']\n",
      "col name =  2xh6-psuq.Project_School_Name | true labels =  ['school_name']\n",
      "col name =  gahm-hu5h.BRONX___COOPERATIVES_COMPARABLE_PROPERTIES___Neighborhood | true labels =  ['neighborhood']\n",
      "col name =  h9gi-nx95.VEHICLE_TYPE_CODE_5 | true labels =  ['vehicle_type']\n",
      "col name =  2v9c-2k7f.DBA | true labels =  ['business_name']\n",
      "col name =  aiww-p3af.Park_Facility_Name | true labels =  ['park_playground', 'school_name']\n",
      "col name =  fxs2-faah.PRINCIPAL_PHONE_NUMBER | true labels =  ['phone_number']\n",
      "col name =  sxmw-f24h.Park_Facility_Name | true labels =  ['school_name']\n",
      "col name =  jz4z-kudi.Violation_Location__Zip_Code_ | true labels =  ['other', 'zip_code']\n",
      "col name =  ydkf-mpxb.CrossStreetName | true labels =  ['street_name', 'address']\n",
      "col name =  ci93-uc8s.Address1 | true labels =  ['address']\n",
      "col name =  n8p9-7jxp.ZIP | true labels =  ['zip_code', 'other']\n",
      "col name =  5uac-w243.PREM_TYP_DESC | true labels =  ['location_type']\n",
      "col name =  uq7m-95z8.interest5 | true labels =  ['subject_in_school']\n",
      "col name =  bjuu-44hx.DVV_MAKE | true labels =  ['car_make', 'other']\n",
      "col name =  jt7v-77mi.Vehicle_Color | true labels =  ['color', 'other', 'car_make']\n",
      "col name =  4pt5-3vv4.Location | true labels =  ['lat_lon_cord']\n",
      "col name =  52dp-yji6.Owner_Last_Name | true labels =  ['person_name', 'other']\n",
      "col name =  jz4z-kudi.Respondent_Address__City_ | true labels =  ['zip_code', 'other', 'city', 'borough', 'address']\n",
      "col name =  h9gi-nx95.VEHICLE_TYPE_CODE_1 | true labels =  ['vehicle_type', 'other']\n",
      "col name =  tu4y-7fre.Boro | true labels =  ['other']\n",
      "col name =  k3cd-yu9d.BOROUGH_CITY | true labels =  ['borough', 'city']\n",
      "col name =  a5qt-5jpu.STATEN_ISLAND_CONDOMINIUM_PROPERTY_Neighborhood | true labels =  ['neighborhood']\n",
      "col name =  ajgi-hpq9.CORE_SUBJECT___MS_CORE_and__09_12_ONLY_ | true labels =  ['subject_in_school', 'other']\n",
      "col name =  p937-wjvj.HOUSE_NUMBER | true labels =  ['other']\n",
      "col name =  xne4-4v8f.SCHOOL_LEVEL_ | true labels =  ['school_level']\n",
      "col name =  fgq8-am2v.Website | true labels =  ['website']\n",
      "col name =  s3k6-pzi2.neighborhood | true labels =  ['neighborhood']\n",
      "col name =  fzv4-jan3.SCHOOL_LEVEL_ | true labels =  ['school_level']\n",
      "col name =  956m-xy24.MANHATTAN_CONDOMINIUM_PROPERTY_Neighborhood | true labels =  ['neighborhood']\n",
      "col name =  as69-ew8f.TruckMake | true labels =  ['other', 'car_make']\n",
      "col name =  735p-zed8.CANDMI | true labels =  ['other']\n",
      "col name =  jz4z-kudi.Respondent_Address__Zip_Code_ | true labels =  ['other', 'zip_code', 'borough']\n",
      "col name =  2sps-j9st.PERSON_LAST_NAME | true labels =  ['person_name', 'business_name']\n",
      "col name =  yggg-xf4b.Website | true labels =  ['website']\n",
      "col name =  cwqt-nvfg.Boro | true labels =  ['other']\n",
      "col name =  cgz5-877h.SCHOOL_LEVEL_ | true labels =  ['school_level']\n",
      "col name =  7btz-mnc8.Provider_First_Name | true labels =  ['other', 'person_name']\n",
      "col name =  8k4x-9mp5.Last_Name__only_2014_15_ | true labels =  ['person_name']\n",
      "col name =  cspg-yi7g.ADDRESS | true labels =  ['address']\n",
      "col name =  pgtq-ht5f.CORE_SUBJECT___MS_CORE_and__9_12_ONLY_ | true labels =  ['subject_in_school', 'other']\n",
      "col name =  tqtj-sjs8.FromStreetName | true labels =  ['street_name', 'address']\n",
      "col name =  en2c-j6tw.BRONX_CONDOMINIUM_PROPERTY_Neighborhood | true labels =  ['neighborhood']\n",
      "col name =  w9ak-ipjd.Applicant_Last_Name | true labels =  ['person_name']\n",
      "col name =  3aka-ggej.CORE_SUBJECT___MS_CORE_and__09_12_ONLY_ | true labels =  ['subject_in_school', 'other']\n",
      "col name =  fp78-wt5b.address | true labels =  ['address']\n",
      "col name =  a9md-ynri.MI | true labels =  ['other']\n",
      "col name =  ci93-uc8s.Website | true labels =  ['website', 'other']\n",
      "col name =  jt7v-77mi.Vehicle_Make | true labels =  ['zip_code', 'other', 'car_make']\n",
      "col name =  3rfa-3xsf.Incident_Zip | true labels =  ['zip_code', 'other']\n",
      "col name =  xk6g-r83g.Agency | true labels =  ['city_agency']\n",
      "col name =  s79c-jgrm.EMPCITY | true labels =  ['city', 'borough']\n",
      "col name =  vx8i-nprf.MI | true labels =  ['other']\n",
      "col name =  erm2-nwe9.Park_Facility_Name | true labels =  ['park_playground', 'school_name']\n",
      "col name =  hy4q-igkk.School_Name | true labels =  ['address', 'school_name']\n",
      "col name =  itd7-gx3g.Location_1 | true labels =  ['lat_lon_cord']\n",
      "col name =  bdjm-n7q4.CrossStreet2 | true labels =  ['address', 'street_name']\n",
      "col name =  bs8b-p36w.STREET | true labels =  ['address', 'street_name']\n",
      "col name =  gahm-hu5h.COMPARABLE_RENTAL___2__Neighborhood | true labels =  ['neighborhood']\n",
      "col name =  52dp-yji6.Owner_First_Name | true labels =  ['person_name', 'address', 'other']\n",
      "col name =  3h2n-5cm9.STREET | true labels =  ['address', 'street_name', 'other']\n",
      "col name =  p937-wjvj.STREET_NAME | true labels =  ['other', 'street_name', 'address']\n",
      "col name =  y4fw-iqfr.Location_1 | true labels =  ['lat_lon_cord']\n",
      "col name =  9z9b-6hvk.Borough | true labels =  ['borough']\n",
      "col name =  uwyv-629c.StreetName | true labels =  ['address', 'street_name']\n",
      "col name =  ci93-uc8s.Vendor_DBA | true labels =  ['business_name']\n",
      "col name =  i6b5-j7bu.TOSTREETNAME | true labels =  ['address', 'street_name']\n",
      "col name =  6kcb-9g8d.neighborhood | true labels =  ['neighborhood']\n",
      "col name =  a5td-mswe.Vehicle_Color | true labels =  ['color', 'other']\n",
      "col name =  uzcy-9puk.Street_Name | true labels =  ['address', 'street_name', 'other']\n",
      "col name =  rbx6-tga4.Applicant_Business_Address | true labels =  ['address', 'street_name']\n",
      "col name =  8isn-pgv3.Owner_Telephone | true labels =  ['phone_number']\n",
      "col name =  qbce-2kcu.COMPARABLE_RENTAL___2__Neighborhood | true labels =  ['neighborhood']\n",
      "col name =  fp78-wt5b.phonenumber | true labels =  ['phone_number']\n",
      "col name =  6je4-4x7e.SCHOOL | true labels =  ['school_name']\n",
      "col name =  7jkp-5w5g.Agency | true labels =  ['city_agency']\n",
      "col name =  b9km-gdpy.ZIP | true labels =  ['other', 'zip_code']\n",
      "col name =  kyad-zm4j.Location | true labels =  ['lat_lon_cord']\n",
      "col name =  kiv2-tbus.Vehicle_Make | true labels =  ['car_make', 'other']\n",
      "col name =  sxmw-f24h.Location | true labels =  ['lat_lon_cord']\n",
      "col name =  4fnu-iufz.Agency | true labels =  ['city_agency']\n",
      "col name =  kiyv-ks3f.Website | true labels =  ['website']\n",
      "col name =  mrxb-9w9v.BOROUGH___COMMUNITY | true labels =  ['borough']\n",
      "col name =  hy4q-igkk.Street_Name | true labels =  ['street_name', 'address']\n",
      "col name =  3rfa-3xsf.School_Phone_Number | true labels =  ['phone_number', 'other']\n",
      "col name =  urzf-q2g5.Phone_Number | true labels =  ['phone_number', 'other']\n",
      "col name =  ffnc-f3aa.SCHOOL_LEVEL_ | true labels =  ['school_level']\n",
      "col name =  e9xc-u3ds.CANDMI | true labels =  ['other']\n",
      "col name =  vhah-kvpj.Borough | true labels =  ['borough']\n",
      "col name =  dm9a-ab7w.OWNER_ZIP | true labels =  ['zip_code', 'other']\n",
      "col name =  bbs3-q5us.EMPCITY | true labels =  ['city', 'borough', 'park_playground']\n",
      "col name =  8gr8-ngjc.phone | true labels =  ['phone_number']\n",
      "col name =  62mr-ukqs.BROOKLYN___COOPERATIVES_COMPARABLE_PROPERTIES___Building_Classification | true labels =  ['building_classification']\n",
      "col name =  x5tk-fa54.Agency_Name | true labels =  ['city_agency']\n",
      "col name =  72mk-a8z7.ORGANIZATION_PHONE | true labels =  ['phone_number']\n",
      "col name =  aiww-p3af.Intersection_Street_2 | true labels =  ['street_name', 'address']\n",
      "col name =  8i43-kna8.CORE_SUBJECT | true labels =  ['other', 'subject_in_school']\n",
      "col name =  6rrm-vxj9.parkname | true labels =  ['park_playground']\n",
      "col name =  3aka-ggej.BOROUGH | true labels =  ['other']\n",
      "col name =  dm9a-ab7w.APPLICANT_FIRST_NAME | true labels =  ['person_name']\n",
      "col name =  sybh-s59s.CORE_SUBJECT___MS_CORE_and__9_12_ONLY_ | true labels =  ['subject_in_school', 'other']\n",
      "col name =  yayv-apxh.SCHOOL_LEVEL_ | true labels =  ['school_level']\n",
      "col name =  bdjm-n7q4.Location | true labels =  ['lat_lon_cord']\n",
      "col name =  kj4p-ruqc.StreetName | true labels =  ['street_name', 'address']\n",
      "col name =  vr8p-8shw.DVT_MAKE | true labels =  ['other', 'car_make']\n",
      "col name =  wks3-66bn.School_Name | true labels =  ['school_name']\n",
      "col name =  t8hj-ruu2.Business_Phone_Number | true labels =  ['phone_number', 'other']\n",
      "col name =  ipu4-2q9a.Site_Safety_Mgr_s_Last_Name | true labels =  ['other', 'person_name']\n",
      "col name =  7yds-6i8e.CORE_SUBJECT__MS_CORE_and_9_12_ONLY_ | true labels =  ['subject_in_school', 'other']\n",
      "col name =  72ss-25qh.Website | true labels =  ['website']\n",
      "col name =  s3k6-pzi2.interest3 | true labels =  ['subject_in_school']\n",
      "col name =  tmr6-dfvn.School_Name | true labels =  ['school_name']\n",
      "col name =  t8hj-ruu2.First_Name | true labels =  ['other', 'person_name']\n",
      "col name =  jxyc-rxiv.COMPARABLE_RENTAL___2__Building_Classification | true labels =  ['building_classification']\n",
      "col name =  bawj-6bgn.BRONX_CONDOMINIUM_PROPERTY_Building_Classification | true labels =  ['building_classification']\n",
      "col name =  mdcw-n682.First_Name | true labels =  ['other', 'person_name']\n",
      "col name =  ykx2-pdw8.QUEENS___COOPERATIVES_COMPARABLE_PROPERTIES___Building_Classification | true labels =  ['building_classification']\n",
      "col name =  w9ak-ipjd.Filing_Representative_City | true labels =  ['city', 'other', 'borough']\n",
      "col name =  vw9i-7mzq.interest5 | true labels =  ['subject_in_school']\n",
      "col name =  weg5-33pj.SCHOOL_LEVEL_ | true labels =  ['school_level']\n",
      "col name =  8vgb-zm6e.City__State__Zip_ | true labels =  ['city', 'zip_code', 'other']\n",
      "col name =  sv2w-rv3k.BORO | true labels =  ['borough']\n",
      "col name =  sqcr-6mww.Street_Name | true labels =  ['other', 'street_name', 'address']\n",
      "col name =  cwg5-cqkm.QUEENS___COOPERATIVES_COMPARABLE_PROPERTIES___Building_Classification | true labels =  ['building_classification']\n",
      "col name =  n84m-kx4j.VEHICLE_MAKE | true labels =  ['car_make']\n",
      "col name =  3rfa-3xsf.Location | true labels =  ['lat_lon_cord']\n",
      "col name =  uzcy-9puk.Park_Facility_Name | true labels =  ['other', 'school_name', 'park_playground']\n",
      "col name =  qjvp-rnsx.Website | true labels =  ['website']\n",
      "col name =  aiww-p3af.Cross_Street_2 | true labels =  ['address', 'street_name']\n",
      "col name =  mdcw-n682.Last_Name | true labels =  ['person_name']\n",
      "col name =  w9ak-ipjd.Filing_Representative_First_Name | true labels =  ['person_name', 'other']\n",
      "col name =  w9ak-ipjd.Owner_s_Business_Name | true labels =  ['business_name', 'other']\n",
      "col name =  pqg4-dm6b.Address1 | true labels =  ['address', 'other']\n",
      "col name =  dm9a-ab7w.AUTH_REP_FIRST_NAME | true labels =  ['other', 'person_name']\n",
      "col name =  bss9-579f.BROOKLYN_____CONDOMINIUMS_COMPARABLE_PROPERTIES_____Neighborhood | true labels =  ['neighborhood']\n",
      "col name =  sxx4-xhzg.Park_Site_Name | true labels =  ['address', 'street_name', 'park_playground']\n",
      "col name =  myei-c3fa.Neighborhood_3 | true labels =  ['neighborhood']\n",
      "col name =  k4xi-fxp5.Borough | true labels =  ['borough']\n",
      "col name =  h9gi-nx95.VEHICLE_TYPE_CODE_4 | true labels =  ['vehicle_type', 'car_make']\n",
      "col name =  d3ge-anaz.CORE_COURSE__MS_CORE_and_9_12_ONLY_ | true labels =  ['other', 'subject_in_school']\n",
      "col name =  5nz7-hh6t.BORO | true labels =  ['other']\n",
      "col name =  qu8g-sxqf.MI | true labels =  ['other']\n",
      "col name =  mdcw-n682.Middle_Initial | true labels =  ['other']\n",
      "col name =  nhms-9u6g.Name__Last__First_ | true labels =  ['person_name']\n",
      "col name =  m3fi-rt3k.Agency_ | true labels =  ['city_agency']\n",
      "col name =  3rfa-3xsf.School_Name | true labels =  ['park_playground', 'school_name']\n",
      "col name =  sybh-s59s.SCHOOL_NAME | true labels =  ['school_name']\n",
      "col name =  6anw-twe4.LastName | true labels =  ['person_name']\n",
      "col name =  9b9u-8989.DBA | true labels =  ['business_name']\n",
      "col name =  dpm2-m9mq.applicant_zip | true labels =  ['other', 'zip_code']\n",
      "col name =  qpm9-j523.org_neighborhood | true labels =  ['neighborhood']\n"
     ]
    }
   ],
   "source": [
    "true_labels={'kevu-8hby.STR_NAME': ['street_name','other'], 'hy4q-igkk.Cross_Street_2': ['street_name'], '735p-zed8.EMPCITY': ['city','borough'], '6kcb-9g8d.independentwebsite': ['website'], '4qii-5cz9.BOROUGH': ['other'], 'en2c-j6tw.BRONX_CONDOMINIUM_PROPERTY_Building_Classification': ['building_classification'], 'cyfw-hfqk.STATEN_ISLAND_CONDOMINIUM_PROPERTY_Neighborhood': ['neighborhood'], 'gpwd-npar.INCIDENT_ADDRESS': ['address'], 'pvqr-7yc4.Vehicle_Color': ['color','other'], 'tg3t-nh4h.BusinessName': ['business_name','address','street_name'], '2bmr-jdsv.DBA': ['business_name'], 'ajgi-hpq9.BORO': ['other'], 'dm9a-ab7w.AUTH_REP_LAST_NAME': ['person_name'], 'pf3n-zn2m.StreetAddress': ['street_name','address'], 'jz4z-kudi.Violation_Location__City_': ['zip_code','other','city'], 'eamj-ryxu.Agency': ['city_agency'], '2sps-j9st.PERSON_FIRST_NAME': ['person_name'], 'faiq-9dfq.Vehicle_Color': ['color','other'], 'c284-tqph.Vehicle_Make': ['car_make'], '2bnn-yakx.Vehicle_Body_Type': ['vehicle_type','other'], 'dj4e-3xrn.SCHOOL_LEVEL_': ['school_level'], 'ac4n-c5re.PRINCIPAL_PHONE_NUMBER': ['phone_number'], 'i8ys-e4pm.CORE_COURSE_9_12_ONLY_': ['subject_in_school'], 'qgea-i56i.PREM_TYP_DESC': ['location_type'], 'vrn4-2abs.SCHOOL_LEVEL_': ['school_level'], 'n8p9-7jxp.EMPCITY': ['city','borough'], '7btz-mnc8.Provider_Last_Name': ['person_name'], 'fbaw-uq4e.Location_1': ['lat_lon_cord'], 'kiv2-tbus.Vehicle_Color': ['color','other'], 'bty7-2jhb.Site_Safety_Mgr_s_Last_Name': ['person_name'], 'pvqr-7yc4.Vehicle_Body_Type': ['vehicle_type','car_make','other'], '72ss-25qh.Agency_ID': ['city_agency'], 'dm9a-ab7w.STREET_NAME': ['street_name','address'], 'ub9e-s7ai.CORE_SUBJECT___MS_CORE_and__09_12_ONLY_': ['subject_in_school','other'], 'uq7m-95z8.interest3': ['subject_in_school'], 'erm2-nwe9.Landmark': ['street_name','park_playground'], 'feu5-w2e2.BusinessZip': ['zip_code'], 'mdcw-n682.Agency_Acronym': ['city_agency'], 'cznr-hmrv.School_Name': ['school_name'], 'pdpg-nn8i.SCHOOL_NAME': ['school_name'], 'u35m-9t32.Address': ['address','street_name'], 'ji82-xba5.address': ['address','street_name'], 'kiv2-tbus.Vehicle_Body_Type': ['vehicle_type','car_make','other'], 'nre2-6m2s.Business_City': ['city','borough'], '2bnn-yakx.Vehicle_Make': ['car_make','other'], 'pchn-eaxn.School_Name': ['school_name'], 'pq5i-thsu.DVC_MAKE': ['car_make','other'], 'a6zp-tcs3.Agency': ['city_agency'], '3rfa-3xsf.Cross_Street_2': ['street_name'], '5nz7-hh6t.CORE_SUBJECT___MS_CORE_and__09_12_ONLY_': ['subject_in_school','other'], '3rfa-3xsf.Street_Name': ['street_name'], 'p2d7-vcsb.COMPLAINT_INQUIRY_STREET_ADDRESS': ['street_name','address'], 'qu8g-sxqf.First_Name': ['person_name'], '956m-xy24.COMPARABLE_RENTAL_1__Building_Classification': ['building_classification'], 'jhjm-vsp8.Agency': ['city_agency'], 'k3cd-yu9d.CANDMI': ['other'], '956m-xy24.MANHATTAN_CONDOMINIUM_PROPERTY_Building_Classification': ['building_classification'], 'diks-hcwd.School_Name': ['school_name'], 'pvqr-7yc4.Vehicle_Make': ['car_make','vehicle_type','other'], 'p2d7-vcsb.ACCOUNT_PHONE': ['phone_number'], '6ypq-ih9a.CORE_SUBJECT___MS_CORE_and__09_12_ONLY_': ['subject_in_school','other'], 'kz72-dump.CORE_SUBJECT___MS_CORE_and__09_12_ONLY_': ['subject_in_school','other'], '4n2j-ut8i.SCHOOL_LEVEL_': ['school_level'], 'ytjm-yias.CORE_SUBJECT___MS_CORE_and__09_12_ONLY_': ['subject_in_school','other'], 'xck4-5xd5.phone': ['phone_number'], 'upwt-zvh3.SCHOOL_LEVEL_': ['school_level'], '43nn-pn8j.DBA': ['business_name','address'], '5uac-w243.Lat_Lon': ['lat_lon_cord'], 'xx4a-msrm.Address_1': ['street_name','address'], '3btx-p4av.COMPARABLE_RENTAL___2__Building_Classification': ['building_classification'], '6je4-4x7e.SCHOOL_LEVEL_': ['school_level'], 'uq7m-95z8.website': ['website'], 'wvts-6tdf.Address': ['address','other'], '6wcu-cfa3.CORE_COURSE__MS_CORE_and_9_12_ONLY_': ['subject_in_school'], 'uq7m-95z8.interest4': ['subject_in_school'], 'faiq-9dfq.Vehicle_Body_Type': ['vehicle_type','car_make'], '8jfz-tjny.Agency': ['city_agency'], '72ss-25qh.Borough': ['other'], 'h9gi-nx95.VEHICLE_TYPE_CODE_2': ['vehicle_type','car_make'], 'h9gi-nx95.VEHICLE_TYPE_CODE_3': ['vehicle_type'], 'ic3t-wcy2.Applicant_s_First_Name': ['person_name'], 'aiww-p3af.Incident_Zip': ['zip_code'], 'jxyc-rxiv.MANHATTAN___COOPERATIVES_COMPARABLE_PROPERTIES___Neighborhood': ['neighborhood'], 'tvhc-4n5n.REGISTRY_ADDRESS': ['address','street_name'], 'cvh6-nmyi.SCHOOL_LEVEL_': ['school_level'], 'kwmq-dbub.CANDMI': ['other'], 'yahh-6yjc.School_Type': ['school_level'], '99br-frp6.BOROUGH___COMMUNITY': ['borough'], 's3k6-pzi2.interest2': ['subject_in_school'], 'ad4c-mphb.MANHATTAN_CONDOMINIUM_PROPERTY_Building_Classification': ['building_classification'], 'ajxm-kzmj.NeighborhoodName': ['neighborhood'], 'gez6-674h.CORE_SUBJECT___MS_CORE_and__9_12_ONLY_': ['subject_in_school','other'], '2bnn-yakx.Vehicle_Color': ['color','other'], '4twk-9yq2.CrossStreet2': ['street_name'], 'mjux-q9d4.SCHOOL_LEVEL_': ['school_level'], 'ptev-4hud.Zip': ['zip_code'], 'mqdy-gu73.Color': ['color','other'], 'uq7m-95z8.interest2': ['subject_in_school'], 'qcdj-rwhu.BUSINESS_NAME2': ['business_name','other'], 'feu5-w2e2.BusinessCity': ['other','city','borough','phone_number'], 'by6m-6zpb.interest': ['subject_in_school'], 'vw9i-7mzq.website': ['website'], 'upwt-zvh3.SCHOOL': ['school_name'], 'c284-tqph.Vehicle_Color': ['other','color'], 'gpwd-npar.LOCATION': ['lat_lon_cord'], 'ipu4-2q9a.Site_Safety_Mgr_s_First_Name': ['person_name'], 'bty7-2jhb.Owner_s_House_City': ['phone_number','zip_code','address','city','other'], 'sqcr-6mww.School_Name': ['other','school_name'], 'vw9i-7mzq.interest6': ['subject_in_school'], 'qbjq-atxv.Agency': ['city_agency'], 'as69-ew8f.StartCity': ['borough','city','address'], 'f7qh-bcr5.CORE_SUBJECT___MS_CORE_and__9_12_ONLY_': ['subject_in_school','other'], 'vw9i-7mzq.interest2': ['subject_in_school'], '6anw-twe4.FirstName': ['person_name'], 'ph7v-u5f3.TOP_VEHICLE_MODELS___5': ['car_make','other'], '2xh6-psuq.Project_School_Name': ['school_name'], 'gahm-hu5h.BRONX___COOPERATIVES_COMPARABLE_PROPERTIES___Neighborhood': ['neighborhood'], 'h9gi-nx95.VEHICLE_TYPE_CODE_5': ['vehicle_type'], '2v9c-2k7f.DBA': ['business_name'], 'aiww-p3af.Park_Facility_Name': ['park_playground','school_name'], 'fxs2-faah.PRINCIPAL_PHONE_NUMBER': ['phone_number'], 'sxmw-f24h.Park_Facility_Name': ['school_name'], 'jz4z-kudi.Violation_Location__Zip_Code_': ['other','zip_code'], 'ydkf-mpxb.CrossStreetName': ['street_name','address'], 'ci93-uc8s.Address1': ['address'], 'n8p9-7jxp.ZIP': ['zip_code','other'], '5uac-w243.PREM_TYP_DESC': ['location_type'], 'uq7m-95z8.interest5': ['subject_in_school'], 'bjuu-44hx.DVV_MAKE': ['car_make','other'], 'jt7v-77mi.Vehicle_Color': ['color','other','car_make'], '4pt5-3vv4.Location': ['lat_lon_cord'], '52dp-yji6.Owner_Last_Name': ['person_name','other'], 'jz4z-kudi.Respondent_Address__City_': ['zip_code','other','city','borough','address'], 'h9gi-nx95.VEHICLE_TYPE_CODE_1': ['vehicle_type','other'], 'tu4y-7fre.Boro': ['other'], 'k3cd-yu9d.BOROUGH_CITY': ['borough','city'], 'a5qt-5jpu.STATEN_ISLAND_CONDOMINIUM_PROPERTY_Neighborhood': ['neighborhood'], 'ajgi-hpq9.CORE_SUBJECT___MS_CORE_and__09_12_ONLY_': ['subject_in_school','other'], 'p937-wjvj.HOUSE_NUMBER': ['other'], 'xne4-4v8f.SCHOOL_LEVEL_': ['school_level'], 'fgq8-am2v.Website': ['website'], 's3k6-pzi2.neighborhood': ['neighborhood'], 'fzv4-jan3.SCHOOL_LEVEL_': ['school_level'], '956m-xy24.MANHATTAN_CONDOMINIUM_PROPERTY_Neighborhood': ['neighborhood'], 'as69-ew8f.TruckMake': ['other','car_make'], '735p-zed8.CANDMI': ['other'], 'jz4z-kudi.Respondent_Address__Zip_Code_': ['other','zip_code','borough'], '2sps-j9st.PERSON_LAST_NAME': ['person_name', 'business_name'], 'yggg-xf4b.Website': ['website'], 'cwqt-nvfg.Boro': ['other'], 'cgz5-877h.SCHOOL_LEVEL_': ['school_level'], '7btz-mnc8.Provider_First_Name': ['other','person_name'], '8k4x-9mp5.Last_Name__only_2014_15_': ['person_name'], 'cspg-yi7g.ADDRESS': ['address'], 'pgtq-ht5f.CORE_SUBJECT___MS_CORE_and__9_12_ONLY_': ['subject_in_school','other'], 'tqtj-sjs8.FromStreetName': ['street_name','address'], 'en2c-j6tw.BRONX_CONDOMINIUM_PROPERTY_Neighborhood': ['neighborhood'], 'w9ak-ipjd.Applicant_Last_Name': ['person_name'], '3aka-ggej.CORE_SUBJECT___MS_CORE_and__09_12_ONLY_': ['subject_in_school','other'], 'fp78-wt5b.address': ['address'], 'a9md-ynri.MI': ['other'], 'ci93-uc8s.Website': ['website','other'], 'jt7v-77mi.Vehicle_Make': ['zip_code','other','car_make'], '3rfa-3xsf.Incident_Zip': ['zip_code','other'], 'xk6g-r83g.Agency': ['city_agency'], 's79c-jgrm.EMPCITY': ['city','borough'], 'vx8i-nprf.MI': ['other'], 'erm2-nwe9.Park_Facility_Name': ['park_playground','school_name'], 'hy4q-igkk.School_Name': ['address','school_name'], 'itd7-gx3g.Location_1': ['lat_lon_cord'], 'bdjm-n7q4.CrossStreet2': ['address','street_name'], 'bs8b-p36w.STREET': ['address','street_name'], 'gahm-hu5h.COMPARABLE_RENTAL___2__Neighborhood': ['neighborhood'], '52dp-yji6.Owner_First_Name': ['person_name','address','other'], '3h2n-5cm9.STREET': ['address','street_name','other'], 'p937-wjvj.STREET_NAME': ['other','street_name','address'], 'y4fw-iqfr.Location_1': ['lat_lon_cord'], '9z9b-6hvk.Borough': ['borough'], 'uwyv-629c.StreetName': ['address','street_name'], 'ci93-uc8s.Vendor_DBA': ['business_name'], 'i6b5-j7bu.TOSTREETNAME': ['address','street_name'], '6kcb-9g8d.neighborhood': ['neighborhood'], 'a5td-mswe.Vehicle_Color': ['color','other'], 'uzcy-9puk.Street_Name': ['address','street_name','other'], 'rbx6-tga4.Applicant_Business_Address': ['address','street_name'], '8isn-pgv3.Owner_Telephone': ['phone_number'], 'qbce-2kcu.COMPARABLE_RENTAL___2__Neighborhood': ['neighborhood'], 'fp78-wt5b.phonenumber': ['phone_number'], '6je4-4x7e.SCHOOL': ['school_name'], '7jkp-5w5g.Agency': ['city_agency'], 'b9km-gdpy.ZIP': ['other','zip_code'], 'kyad-zm4j.Location': ['lat_lon_cord'], 'kiv2-tbus.Vehicle_Make': ['car_make','other'], 'sxmw-f24h.Location': ['lat_lon_cord'], '4fnu-iufz.Agency': ['city_agency'], 'kiyv-ks3f.Website': ['website'], 'mrxb-9w9v.BOROUGH___COMMUNITY': ['borough'], 'hy4q-igkk.Street_Name': ['street_name','address'], '3rfa-3xsf.School_Phone_Number': ['phone_number','other'], 'urzf-q2g5.Phone_Number': ['phone_number','other'], 'ffnc-f3aa.SCHOOL_LEVEL_': ['school_level'], 'e9xc-u3ds.CANDMI': ['other'], 'vhah-kvpj.Borough': ['borough'], 'dm9a-ab7w.OWNER_ZIP': ['zip_code','other'], 'bbs3-q5us.EMPCITY': ['city','borough','park_playground'], '8gr8-ngjc.phone': ['phone_number'], '62mr-ukqs.BROOKLYN___COOPERATIVES_COMPARABLE_PROPERTIES___Building_Classification': ['building_classification'], 'x5tk-fa54.Agency_Name': ['city_agency'], '72mk-a8z7.ORGANIZATION_PHONE': ['phone_number'], 'aiww-p3af.Intersection_Street_2': ['street_name','address'], '8i43-kna8.CORE_SUBJECT': ['other','subject_in_school'], '6rrm-vxj9.parkname': ['park_playground'], '3aka-ggej.BOROUGH': ['other'], 'dm9a-ab7w.APPLICANT_FIRST_NAME': ['person_name'], 'sybh-s59s.CORE_SUBJECT___MS_CORE_and__9_12_ONLY_': ['subject_in_school','other'], 'yayv-apxh.SCHOOL_LEVEL_': ['school_level'], 'bdjm-n7q4.Location': ['lat_lon_cord'], 'kj4p-ruqc.StreetName': ['street_name','address'], 'vr8p-8shw.DVT_MAKE': ['other','car_make'], 'wks3-66bn.School_Name': ['school_name'], 't8hj-ruu2.Business_Phone_Number': ['phone_number','other'], 'ipu4-2q9a.Site_Safety_Mgr_s_Last_Name': ['other','person_name'], '7yds-6i8e.CORE_SUBJECT__MS_CORE_and_9_12_ONLY_': ['subject_in_school','other'], '72ss-25qh.Website': ['website'], 's3k6-pzi2.interest3': ['subject_in_school'], 'tmr6-dfvn.School_Name': ['school_name'], 't8hj-ruu2.First_Name': ['other','person_name'], 'jxyc-rxiv.COMPARABLE_RENTAL___2__Building_Classification': ['building_classification'], 'bawj-6bgn.BRONX_CONDOMINIUM_PROPERTY_Building_Classification': ['building_classification'], 'mdcw-n682.First_Name': ['other','person_name'], 'ykx2-pdw8.QUEENS___COOPERATIVES_COMPARABLE_PROPERTIES___Building_Classification': ['building_classification'], 'w9ak-ipjd.Filing_Representative_City': ['city','other','borough'], 'vw9i-7mzq.interest5': ['subject_in_school'], 'weg5-33pj.SCHOOL_LEVEL_': ['school_level'], '8vgb-zm6e.City__State__Zip_': ['city','zip_code','other'], 'sv2w-rv3k.BORO': ['borough'], 'sqcr-6mww.Street_Name': ['other','street_name','address'], 'cwg5-cqkm.QUEENS___COOPERATIVES_COMPARABLE_PROPERTIES___Building_Classification': ['building_classification'], 'n84m-kx4j.VEHICLE_MAKE': ['car_make'], '3rfa-3xsf.Location': ['lat_lon_cord'], 'uzcy-9puk.Park_Facility_Name': ['other','school_name','park_playground'], 'qjvp-rnsx.Website': ['website'], 'aiww-p3af.Cross_Street_2': ['address','street_name'], 'mdcw-n682.Last_Name': ['person_name'], 'w9ak-ipjd.Filing_Representative_First_Name': ['person_name','other'], 'w9ak-ipjd.Owner_s_Business_Name': ['business_name','other'], 'pqg4-dm6b.Address1': ['address','other'], 'dm9a-ab7w.AUTH_REP_FIRST_NAME': ['other','person_name'], 'bss9-579f.BROOKLYN_____CONDOMINIUMS_COMPARABLE_PROPERTIES_____Neighborhood': ['neighborhood'], 'sxx4-xhzg.Park_Site_Name': ['address','street_name','park_playground'], 'myei-c3fa.Neighborhood_3': ['neighborhood'], 'k4xi-fxp5.Borough': ['borough'], 'h9gi-nx95.VEHICLE_TYPE_CODE_4': ['vehicle_type','car_make'], 'd3ge-anaz.CORE_COURSE__MS_CORE_and_9_12_ONLY_': ['other','subject_in_school'], '5nz7-hh6t.BORO': ['other'], 'qu8g-sxqf.MI': ['other'], 'mdcw-n682.Middle_Initial': ['other'], 'nhms-9u6g.Name__Last__First_': ['person_name'], 'm3fi-rt3k.Agency_': ['city_agency'], '3rfa-3xsf.School_Name': ['park_playground','school_name'], 'sybh-s59s.SCHOOL_NAME': ['school_name'], '6anw-twe4.LastName': ['person_name'], '9b9u-8989.DBA': ['business_name'], 'dpm2-m9mq.applicant_zip': ['other','zip_code'], 'qpm9-j523.org_neighborhood': ['neighborhood']}\n",
    "for k,v in true_labels.items():\n",
    "    print(\"col name = \", k, \"| true labels = \", v)"
   ]
  },
  {
   "cell_type": "code",
   "execution_count": 110,
   "metadata": {},
   "outputs": [],
   "source": [
    "json_list=os.listdir('Task2_Results/')"
   ]
  },
  {
   "cell_type": "code",
   "execution_count": 111,
   "metadata": {},
   "outputs": [],
   "source": [
    "l=[\"person_name\", \"business_name\", \"phone_number\", \"address\", \"street_name\",\n",
    "\"city\", \"neighborhood\", \"lat_lon_cord\", \"zip_code\", \"borough\", \"school_name\",\n",
    "\"color\", \"car_make\", \"city_agency\", \"area_of_study\", \"subject_in_school\",\n",
    "\"school_level\", \"college_name\", \"website\", \"building_classification\",\n",
    "\"vehicle_type\", \"location_type\", \"park_playground\", \"other\"]\n",
    "\n",
    "pred_as_type={}\n",
    "actual_as_type={}\n",
    "correct_pred={}\n",
    "\n",
    "for x in l:\n",
    "    pred_as_type[x]=0\n",
    "    actual_as_type[x]=0\n",
    "    correct_pred[x]=0"
   ]
  },
  {
   "cell_type": "code",
   "execution_count": 163,
   "metadata": {},
   "outputs": [],
   "source": [
    "num_homo=0\n",
    "num_heterogenous=0\n",
    "for j in json_list:\n",
    "    filepath='Task2_Results/'+j\n",
    "    json_string=open(filepath).read()\n",
    "    json_dict=json.loads(json_string)\n",
    "    col_name=j.split('.')[0]+'.'+j.split('.')[1]\n",
    "    true_label=true_labels[col_name]\n",
    "    sem_types=json_dict['semantic_types']\n",
    "    pred_label=[]\n",
    "    if len(pred_label)==1:\n",
    "        num_homo=num_homo+1\n",
    "    else:\n",
    "        num_heterogenous=num_heterogenous+1\n",
    "    for t in sem_types:\n",
    "        pred_label.append(t['semantic_type'])\n",
    "    for label in pred_label:\n",
    "        pred_as_type[label]=pred_as_type[label]+1\n",
    "    for label in true_label:\n",
    "        actual_as_type[label]=actual_as_type[label]+1\n",
    "    \n",
    "    for label in true_label:\n",
    "        if label in pred_label:\n",
    "            correct_pred[label]=correct_pred[label]+1"
   ]
  },
  {
   "cell_type": "code",
   "execution_count": 113,
   "metadata": {},
   "outputs": [
    {
     "name": "stdout",
     "output_type": "stream",
     "text": [
      "{'person_name': 126, 'business_name': 29, 'phone_number': 0, 'address': 45, 'street_name': 99, 'city': 18, 'neighborhood': 25, 'lat_lon_cord': 31, 'zip_code': 14, 'borough': 31, 'school_name': 11, 'color': 14, 'car_make': 23, 'city_agency': 4, 'area_of_study': 10, 'subject_in_school': 25, 'school_level': 15, 'college_name': 1, 'website': 18, 'building_classification': 37, 'vehicle_type': 20, 'location_type': 33, 'park_playground': 16, 'other': 212}\n"
     ]
    }
   ],
   "source": [
    "print(pred_as_type)"
   ]
  },
  {
   "cell_type": "code",
   "execution_count": 114,
   "metadata": {},
   "outputs": [
    {
     "name": "stdout",
     "output_type": "stream",
     "text": [
      "{'person_name': 23, 'business_name': 9, 'phone_number': 13, 'address': 36, 'street_name': 30, 'city': 13, 'neighborhood': 14, 'lat_lon_cord': 10, 'zip_code': 15, 'borough': 17, 'school_name': 17, 'color': 8, 'car_make': 17, 'city_agency': 12, 'area_of_study': 0, 'subject_in_school': 26, 'school_level': 14, 'college_name': 0, 'website': 9, 'building_classification': 10, 'vehicle_type': 10, 'location_type': 2, 'park_playground': 8, 'other': 87}\n"
     ]
    }
   ],
   "source": [
    "print(actual_as_type)"
   ]
  },
  {
   "cell_type": "code",
   "execution_count": 115,
   "metadata": {},
   "outputs": [
    {
     "name": "stdout",
     "output_type": "stream",
     "text": [
      "{'person_name': 23, 'business_name': 8, 'phone_number': 0, 'address': 31, 'street_name': 28, 'city': 11, 'neighborhood': 14, 'lat_lon_cord': 8, 'zip_code': 10, 'borough': 11, 'school_name': 11, 'color': 8, 'car_make': 15, 'city_agency': 2, 'area_of_study': 0, 'subject_in_school': 23, 'school_level': 14, 'college_name': 0, 'website': 9, 'building_classification': 10, 'vehicle_type': 10, 'location_type': 2, 'park_playground': 5, 'other': 75}\n"
     ]
    }
   ],
   "source": [
    "print(correct_pred)"
   ]
  },
  {
   "cell_type": "code",
   "execution_count": 116,
   "metadata": {},
   "outputs": [
    {
     "name": "stdout",
     "output_type": "stream",
     "text": [
      "Precision for type person_name =  0.18253968253968253\n",
      "Recall for type person_name =  1.0\n",
      "Precision for type business_name =  0.27586206896551724\n",
      "Recall for type business_name =  0.8888888888888888\n",
      "Precision for type phone_number =  0\n",
      "Recall for type phone_number =  0.0\n",
      "Precision for type address =  0.6888888888888889\n",
      "Recall for type address =  0.8611111111111112\n",
      "Precision for type street_name =  0.2828282828282828\n",
      "Recall for type street_name =  0.9333333333333333\n",
      "Precision for type city =  0.6111111111111112\n",
      "Recall for type city =  0.8461538461538461\n",
      "Precision for type neighborhood =  0.56\n",
      "Recall for type neighborhood =  1.0\n",
      "Precision for type lat_lon_cord =  0.25806451612903225\n",
      "Recall for type lat_lon_cord =  0.8\n",
      "Precision for type zip_code =  0.7142857142857143\n",
      "Recall for type zip_code =  0.6666666666666666\n",
      "Precision for type borough =  0.3548387096774194\n",
      "Recall for type borough =  0.6470588235294118\n",
      "Precision for type school_name =  1.0\n",
      "Recall for type school_name =  0.6470588235294118\n",
      "Precision for type color =  0.5714285714285714\n",
      "Recall for type color =  1.0\n",
      "Precision for type car_make =  0.6521739130434783\n",
      "Recall for type car_make =  0.8823529411764706\n",
      "Precision for type city_agency =  0.5\n",
      "Recall for type city_agency =  0.16666666666666666\n",
      "Precision for type area_of_study =  0.0\n",
      "Recall for type area_of_study =  0\n",
      "Precision for type subject_in_school =  0.92\n",
      "Recall for type subject_in_school =  0.8846153846153846\n",
      "Precision for type school_level =  0.9333333333333333\n",
      "Recall for type school_level =  1.0\n",
      "Precision for type college_name =  0.0\n",
      "Recall for type college_name =  0\n",
      "Precision for type website =  0.5\n",
      "Recall for type website =  1.0\n",
      "Precision for type building_classification =  0.2702702702702703\n",
      "Recall for type building_classification =  1.0\n",
      "Precision for type vehicle_type =  0.5\n",
      "Recall for type vehicle_type =  1.0\n",
      "Precision for type location_type =  0.06060606060606061\n",
      "Recall for type location_type =  1.0\n",
      "Precision for type park_playground =  0.3125\n",
      "Recall for type park_playground =  0.625\n",
      "Precision for type other =  0.35377358490566035\n",
      "Recall for type other =  0.8620689655172413\n"
     ]
    }
   ],
   "source": [
    "for x in l:\n",
    "    s='Precision for type '+x+ \" = \"\n",
    "    if pred_as_type[x]==0:\n",
    "        precision=0\n",
    "    else:\n",
    "        precision=correct_pred[x]/pred_as_type[x]\n",
    "    \n",
    "    print(s, precision)\n",
    "    s1='Recall for type '+x+ \" = \"\n",
    "    \n",
    "    if actual_as_type[x]==0:\n",
    "        recall=0\n",
    "    else:\n",
    "        recall=correct_pred[x]/actual_as_type[x]\n",
    "    print(s1, recall)"
   ]
  },
  {
   "cell_type": "code",
   "execution_count": 126,
   "metadata": {},
   "outputs": [],
   "source": [
    "import matplotlib.pyplot as plt\n",
    "import seaborn as sns\n",
    "import pandas as pd\n",
    "%matplotlib inline\n",
    "sns.set()\n"
   ]
  },
  {
   "cell_type": "code",
   "execution_count": 156,
   "metadata": {},
   "outputs": [],
   "source": [
    "x=pd.DataFrame(list(pred_as_type.items())).copy()"
   ]
  },
  {
   "cell_type": "code",
   "execution_count": 157,
   "metadata": {},
   "outputs": [],
   "source": [
    "x.index=pred_as_type.keys()"
   ]
  },
  {
   "cell_type": "code",
   "execution_count": 162,
   "metadata": {},
   "outputs": [
    {
     "data": {
      "text/plain": [
       "<matplotlib.axes._subplots.AxesSubplot at 0x2ad116c3e80>"
      ]
     },
     "execution_count": 162,
     "metadata": {},
     "output_type": "execute_result"
    },
    {
     "data": {
      "image/png": "[encoded data removed]",
      "text/plain": [
       "<Figure size 576x432 with 1 Axes>"
      ]
     },
     "metadata": {},
     "output_type": "display_data"
    }
   ],
   "source": [
    "x.plot(kind='barh', legend=False, figsize=(8, 6))"
   ]
  },
  {
   "cell_type": "code",
   "execution_count": 165,
   "metadata": {},
   "outputs": [],
   "source": [
    "f={'heterogenous': 230, 'homogenous': 35}\n",
    "z=pd.DataFrame(list(f.items()))"
   ]
  },
  {
   "cell_type": "code",
   "execution_count": 166,
   "metadata": {},
   "outputs": [
    {
     "data": {
      "text/plain": [
       "<matplotlib.axes._subplots.AxesSubplot at 0x2ad11357c18>"
      ]
     },
     "execution_count": 166,
     "metadata": {},
     "output_type": "execute_result"
    },
    {
     "data": {
      "image/png": "[encoded data removed]",
      "text/plain": [
       "<Figure size 576x432 with 1 Axes>"
      ]
     },
     "metadata": {},
     "output_type": "display_data"
    }
   ],
   "source": [
    "z.index=f.keys()\n",
    "z.plot(kind='barh', legend=False, figsize=(8, 6))"
   ]
  },
  {
   "cell_type": "code",
   "execution_count": null,
   "metadata": {},
   "outputs": [],
   "source": []
  }
 ],
 "metadata": {
  "kernelspec": {
   "display_name": "Python 3",
   "language": "python",
   "name": "python3"
  },
  "language_info": {
   "codemirror_mode": {
    "name": "ipython",
    "version": 3
   },
   "file_extension": ".py",
   "mimetype": "text/x-python",
   "name": "python",
   "nbconvert_exporter": "python",
   "pygments_lexer": "ipython3",
   "version": "3.7.3"
  }
 },
 "nbformat": 4,
 "nbformat_minor": 2
}
